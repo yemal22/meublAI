{
 "cells": [
  {
   "cell_type": "code",
   "execution_count": 13,
   "id": "109bf4dc",
   "metadata": {},
   "outputs": [],
   "source": [
    "from datasets import load_dataset, concatenate_datasets"
   ]
  },
  {
   "cell_type": "code",
   "execution_count": 4,
   "id": "2e562b31",
   "metadata": {},
   "outputs": [
    {
     "name": "stderr",
     "output_type": "stream",
     "text": [
      "Repo card metadata block was not found. Setting CardData to empty.\n"
     ]
    },
    {
     "name": "stderr",
     "output_type": "stream",
     "text": [
      "Downloading data: 100%|██████████| 4551/4551 [00:55<00:00, 82.20files/s]  \n",
      "Generating train split: 100%|██████████| 4550/4550 [00:00<00:00, 46471.62 examples/s]\n"
     ]
    }
   ],
   "source": [
    "ds_1 = load_dataset(\"Pacicap/FurnituresClaude2\")"
   ]
  },
  {
   "cell_type": "code",
   "execution_count": 7,
   "id": "e64ea5bb",
   "metadata": {},
   "outputs": [
    {
     "name": "stderr",
     "output_type": "stream",
     "text": [
      "Generating train split: 100%|██████████| 9000/9000 [00:00<00:00, 10724.61 examples/s]\n",
      "Generating test split: 100%|██████████| 1000/1000 [00:00<00:00, 15852.45 examples/s]\n"
     ]
    }
   ],
   "source": [
    "ds_2 = load_dataset(\"filnow/furniture-synthetic-dataset\")"
   ]
  },
  {
   "cell_type": "code",
   "execution_count": 8,
   "id": "8dca88d6",
   "metadata": {},
   "outputs": [
    {
     "data": {
      "text/plain": [
       "DatasetDict({\n",
       "    train: Dataset({\n",
       "        features: ['image', 'text'],\n",
       "        num_rows: 4550\n",
       "    })\n",
       "})"
      ]
     },
     "execution_count": 8,
     "metadata": {},
     "output_type": "execute_result"
    }
   ],
   "source": [
    "ds_1"
   ]
  },
  {
   "cell_type": "code",
   "execution_count": 9,
   "id": "de14c899",
   "metadata": {},
   "outputs": [
    {
     "data": {
      "text/plain": [
       "DatasetDict({\n",
       "    train: Dataset({\n",
       "        features: ['image', 'type', 'style', 'color', 'material', 'shape', 'details', 'room_type', 'price_range', 'prompt'],\n",
       "        num_rows: 9000\n",
       "    })\n",
       "    test: Dataset({\n",
       "        features: ['image', 'type', 'style', 'color', 'material', 'shape', 'details', 'room_type', 'price_range', 'prompt'],\n",
       "        num_rows: 1000\n",
       "    })\n",
       "})"
      ]
     },
     "execution_count": 9,
     "metadata": {},
     "output_type": "execute_result"
    }
   ],
   "source": [
    "ds_2"
   ]
  },
  {
   "cell_type": "code",
   "execution_count": 11,
   "id": "00e30c89",
   "metadata": {},
   "outputs": [],
   "source": [
    "ds1_images = ds_1[\"train\"].remove_columns([col for col in ds_1[\"train\"].column_names if col != \"image\"])\n",
    "ds2_train_images = ds_2[\"train\"].remove_columns([col for col in ds_2[\"train\"].column_names if col != \"image\"])\n",
    "ds2_test_images = ds_2[\"test\"].remove_columns([col for col in ds_2[\"test\"].column_names if col != \"image\"])"
   ]
  },
  {
   "cell_type": "code",
   "execution_count": 16,
   "id": "e7f265a0",
   "metadata": {},
   "outputs": [],
   "source": [
    "def add_id(example, idx):\n",
    "    example[\"id\"] = f\"img_{idx:05d}\"\n",
    "    return example"
   ]
  },
  {
   "cell_type": "code",
   "execution_count": 14,
   "id": "8a9e016b",
   "metadata": {},
   "outputs": [],
   "source": [
    "ds = concatenate_datasets([ds1_images, ds2_train_images, ds2_test_images])"
   ]
  },
  {
   "cell_type": "code",
   "execution_count": 15,
   "id": "d55af239",
   "metadata": {},
   "outputs": [
    {
     "data": {
      "text/plain": [
       "Dataset({\n",
       "    features: ['image'],\n",
       "    num_rows: 14550\n",
       "})"
      ]
     },
     "execution_count": 15,
     "metadata": {},
     "output_type": "execute_result"
    }
   ],
   "source": [
    "ds"
   ]
  },
  {
   "cell_type": "code",
   "execution_count": 17,
   "id": "3d1f8b06",
   "metadata": {},
   "outputs": [
    {
     "name": "stderr",
     "output_type": "stream",
     "text": [
      "Map: 100%|██████████| 14550/14550 [00:09<00:00, 1554.01 examples/s] \n"
     ]
    }
   ],
   "source": [
    "ds = ds.map(add_id, with_indices=True)"
   ]
  },
  {
   "cell_type": "code",
   "execution_count": 18,
   "id": "c9e440e4",
   "metadata": {},
   "outputs": [
    {
     "data": {
      "text/plain": [
       "Dataset({\n",
       "    features: ['image', 'id'],\n",
       "    num_rows: 14550\n",
       "})"
      ]
     },
     "execution_count": 18,
     "metadata": {},
     "output_type": "execute_result"
    }
   ],
   "source": [
    "ds"
   ]
  },
  {
   "cell_type": "code",
   "execution_count": 19,
   "id": "1da13164",
   "metadata": {},
   "outputs": [
    {
     "name": "stderr",
     "output_type": "stream",
     "text": [
      "Saving the dataset (10/10 shards): 100%|██████████| 14550/14550 [00:03<00:00, 4395.07 examples/s]\n"
     ]
    }
   ],
   "source": [
    "ds.save_to_disk(\"../data/raw/furniture_ds\")"
   ]
  },
  {
   "cell_type": "code",
   "execution_count": null,
   "id": "5b37c805",
   "metadata": {},
   "outputs": [],
   "source": []
  }
 ],
 "metadata": {
  "kernelspec": {
   "display_name": ".venv",
   "language": "python",
   "name": "python3"
  },
  "language_info": {
   "codemirror_mode": {
    "name": "ipython",
    "version": 3
   },
   "file_extension": ".py",
   "mimetype": "text/x-python",
   "name": "python",
   "nbconvert_exporter": "python",
   "pygments_lexer": "ipython3",
   "version": "3.12.3"
  }
 },
 "nbformat": 4,
 "nbformat_minor": 5
}
